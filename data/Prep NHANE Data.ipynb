{
 "cells": [
  {
   "cell_type": "code",
   "execution_count": 43,
   "metadata": {},
   "outputs": [],
   "source": [
    "import xport\n",
    "import pandas as pd\n",
    "import json"
   ]
  },
  {
   "cell_type": "markdown",
   "metadata": {},
   "source": [
    "# Notebook to Process NHANE Food Interview Data \n",
    "To find pie of course. \n",
    "\n",
    "You will need to download the raw files in XPT format from [CDC and USDA NHANES Pages](https://www.cdc.gov/nchs/nhanes/wweia.htm)"
   ]
  },
  {
   "cell_type": "code",
   "execution_count": 2,
   "metadata": {},
   "outputs": [],
   "source": [
    "def get_data(fname):\n",
    "    \"\"\" \n",
    "    Place all the data in the file `fname` into a dictionary indexed \n",
    "    by sequence number.\n",
    "\n",
    "    Arguments:\n",
    "    ----------\n",
    "    fname : The file name of the data\n",
    "\n",
    "    Returns:\n",
    "    --------\n",
    "    Z : A dictionary mapping the sequence numbers to lists of data values\n",
    "    H : The names of the variables, in the order they appear in Z\n",
    "    CREDIT: http://dept.stat.lsa.umich.edu/~kshedden/Python-Workshop/nhanes_data.html\n",
    "    \"\"\"\n",
    "\n",
    "    ## The data, indexed by sequence number\n",
    "    Z = {}\n",
    "\n",
    "    ## The variable names, in the order they appear in values of Z.\n",
    "    H = None\n",
    "\n",
    "    with open(fname, 'rb') as f:\n",
    "        for row in xport.DictReader(f):\n",
    "\n",
    "            ## Get the variable names from the first record\n",
    "            if H is None:\n",
    "                H = list(row.keys())\n",
    "                H.remove(\"SEQN\")\n",
    "                H.sort()\n",
    "\n",
    "            Z[''.join([str(row[\"SEQN\"]), str(row[\"DR1ILINE\"])])] = {k:row[k] for k in H} #modified to allow for food lines\n",
    "\n",
    "    return Z,H"
   ]
  },
  {
   "cell_type": "code",
   "execution_count": 3,
   "metadata": {},
   "outputs": [],
   "source": [
    "r, h = get_data('DR1IFF_H.XPT')"
   ]
  },
  {
   "cell_type": "code",
   "execution_count": 25,
   "metadata": {},
   "outputs": [
    {
     "data": {
      "text/plain": [
       "90"
      ]
     },
     "execution_count": 25,
     "metadata": {},
     "output_type": "execute_result"
    }
   ],
   "source": [
    "pie_codes = {}\n",
    "with open('drxfcd_h.xpt', 'rb') as f:\n",
    "        for row in xport.DictReader(f):\n",
    "            if 'Pie,' in  row['DRXFCLD']:\n",
    "                pie_codes[row['DRXFDCD']] = row['DRXFCLD']\n",
    "            \n",
    "len(pie_codes)\n",
    "            \n",
    "            \n",
    "            "
   ]
  },
  {
   "cell_type": "code",
   "execution_count": 19,
   "metadata": {},
   "outputs": [],
   "source": [
    "all_data = pd.DataFrame.from_dict(r, orient='index')"
   ]
  },
  {
   "cell_type": "code",
   "execution_count": 20,
   "metadata": {},
   "outputs": [],
   "source": [
    "pie_only = all_data[all_data.DR1IFDCD.isin(pie_codes)]"
   ]
  },
  {
   "cell_type": "code",
   "execution_count": 21,
   "metadata": {},
   "outputs": [],
   "source": [
    "interesting_columns = ['DR1_030Z','DR1_040Z','DR1IKCAL', 'DR1FS','DR1IFDCD']\n",
    "pie_only = pie_only[interesting_columns].rename(columns={'DR1_030Z':'EatingOccasion','DR1_040Z':'AtHome'\n",
    "                                               ,'DR1IKCAL':'Calories'\n",
    "                                               ,'DR1FS':'Source', 'DR1IFDCD':'FoodCode'})\n",
    "\n",
    "\n",
    "\n"
   ]
  },
  {
   "cell_type": "code",
   "execution_count": 24,
   "metadata": {},
   "outputs": [
    {
     "data": {
      "text/plain": [
       "(164, 5)"
      ]
     },
     "execution_count": 24,
     "metadata": {},
     "output_type": "execute_result"
    }
   ],
   "source": [
    "pie_only.shape"
   ]
  },
  {
   "cell_type": "code",
   "execution_count": 35,
   "metadata": {},
   "outputs": [],
   "source": [
    "def EatingOccasion(val):\n",
    "    int_val = int(val)\n",
    "    eating_occasions ={1:'Breakfast',2:'Lunch',3:'Dinner',4:'Dinner',5:'Brunch',6:'Snack',7:'Drink', 13:'Meirenda',14:'Cena',15:'Entre comida'}\n",
    "    return eating_occasions[int_val]\n",
    "\n",
    "def atHome(val):\n",
    "    int_val = int(val)\n",
    "    atHome_vals = {1:True,2:False}\n",
    "    return atHome_vals[int_val]\n",
    "\n",
    "\n",
    "def Source(val):\n",
    "    int_val = int(val)\n",
    "    source_vals = {1:'Store', 2:'Restaurant with Waiter/Waitress', 3:'FastFood',\n",
    "                   4:'Bar/Tavern',6:'Non-School Cafeteria',7:'School Cafeteria',8:'Care Center',10:'Soup Kitchen or Food Pantry'\n",
    "                   ,11:'Meals on Wheels',14:'Vending Machine',16:'From Somewhere Else/Gift', 19:'Grown by Someone you know'\n",
    "                   , 17:'Mail order purchase', 24:'Sports Facility',25:'Street Vendor'\n",
    "                   ,27:'Convenience Store',26:'Bake Sale', 99:'Other'}\n",
    "    return source_vals[int_val]\n",
    "\n",
    "def foodCode(val):\n",
    "    words = pie_codes[val].split(',')\n",
    "    flavor = words[1]\n",
    "    return flavor\n",
    "\n",
    "def Mapper(row):\n",
    "    new_row = {'Source':Source(row['Source']), 'EatingOccasion':EatingOccasion(row['EatingOccasion'])\n",
    "               , 'AtHome':atHome(row['AtHome']), 'Calories':row['Calories'], 'FoodCode':foodCode(row['FoodCode'])}\n",
    "    return new_row\n",
    "\n",
    "                  \n",
    "                  \n",
    "                  \n",
    "pie_output = pd.DataFrame.from_dict(pie_only.apply(Mapper, axis=1).to_dict(), orient='index')    "
   ]
  },
  {
   "cell_type": "code",
   "execution_count": 53,
   "metadata": {},
   "outputs": [],
   "source": [
    "pie_output.to_csv('Pie_Data.csv')"
   ]
  },
  {
   "cell_type": "code",
   "execution_count": null,
   "metadata": {},
   "outputs": [],
   "source": []
  }
 ],
 "metadata": {
  "kernelspec": {
   "display_name": "Python 3",
   "language": "python",
   "name": "python3"
  },
  "language_info": {
   "codemirror_mode": {
    "name": "ipython",
    "version": 3
   },
   "file_extension": ".py",
   "mimetype": "text/x-python",
   "name": "python",
   "nbconvert_exporter": "python",
   "pygments_lexer": "ipython3",
   "version": "3.6.1"
  }
 },
 "nbformat": 4,
 "nbformat_minor": 2
}
